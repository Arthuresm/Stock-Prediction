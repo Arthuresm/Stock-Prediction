{
 "cells": [
  {
   "cell_type": "code",
   "execution_count": 1,
   "metadata": {},
   "outputs": [],
   "source": [
    "import numpy as np\n",
    "import matplotlib.pyplot as plt\n",
    "import pandas as pd"
   ]
  },
  {
   "cell_type": "code",
   "execution_count": 3,
   "metadata": {},
   "outputs": [],
   "source": [
    "asset_name = \"PETR4\"\n",
    "data_test_size = 14\n",
    "dataset = pd.read_csv(f'dataset/{asset_name}.csv')\n",
    "dataset_train = dataset[0:len(dataset)-data_test_size]\n",
    "training_set = dataset_train.iloc[:, 1:2].values"
   ]
  },
  {
   "cell_type": "code",
   "execution_count": 4,
   "metadata": {},
   "outputs": [
    {
     "output_type": "execute_result",
     "data": {
      "text/plain": [
       "array([[23.6 ],\n",
       "       [23.5 ],\n",
       "       [23.3 ],\n",
       "       ...,\n",
       "       [22.34],\n",
       "       [23.49],\n",
       "       [23.38]])"
      ]
     },
     "metadata": {},
     "execution_count": 4
    }
   ],
   "source": [
    "training_set"
   ]
  },
  {
   "cell_type": "code",
   "execution_count": 5,
   "metadata": {},
   "outputs": [
    {
     "output_type": "execute_result",
     "data": {
      "text/plain": [
       "            date  val_high  val_open  val_low  val_close  val_close_final  \\\n",
       "0     2006-05-12     23.60     23.33    23.25      23.68            16.69   \n",
       "1     2006-05-15     23.50     23.25    22.40      23.45            16.53   \n",
       "2     2006-05-16     23.30     23.12    22.60      22.85            16.10   \n",
       "3     2006-05-17     23.08     22.73    22.00      23.00            16.21   \n",
       "4     2006-05-18     22.50     22.50    21.66      21.75            15.32   \n",
       "...          ...       ...       ...      ...        ...              ...   \n",
       "3672  2021-03-08     22.28     21.94    20.96      21.10            21.10   \n",
       "3673  2021-03-09     21.95     21.36    20.86      21.59            21.59   \n",
       "3674  2021-03-10     22.34     21.94    21.58      22.34            22.34   \n",
       "3675  2021-03-11     23.49     22.62    22.61      23.29            23.29   \n",
       "3676  2021-03-12     23.38     23.15    22.86      23.17            23.17   \n",
       "\n",
       "          volume  Moving average 7  Moving average 30  Momentum 7  \n",
       "0      651535232         23.680000          23.680000        1.09  \n",
       "1     1336049152         23.647143          23.672333        0.58  \n",
       "2      671452672         23.528571          23.644667       -0.17  \n",
       "3      601421120         23.431429          23.622000        0.59  \n",
       "4       17677400         23.155714          23.557667       -0.62  \n",
       "...          ...               ...                ...         ...  \n",
       "3672   141142800         21.875714          25.917000       -1.11  \n",
       "3673   122648000         21.782857          25.696333       -0.22  \n",
       "3674   111744100         21.831429          25.522667        0.89  \n",
       "3675   130577500         22.017143          25.396000        0.84  \n",
       "3676    68123200         22.300000          25.268333        0.50  \n",
       "\n",
       "[3677 rows x 10 columns]"
      ],
      "text/html": "<div>\n<style scoped>\n    .dataframe tbody tr th:only-of-type {\n        vertical-align: middle;\n    }\n\n    .dataframe tbody tr th {\n        vertical-align: top;\n    }\n\n    .dataframe thead th {\n        text-align: right;\n    }\n</style>\n<table border=\"1\" class=\"dataframe\">\n  <thead>\n    <tr style=\"text-align: right;\">\n      <th></th>\n      <th>date</th>\n      <th>val_high</th>\n      <th>val_open</th>\n      <th>val_low</th>\n      <th>val_close</th>\n      <th>val_close_final</th>\n      <th>volume</th>\n      <th>Moving average 7</th>\n      <th>Moving average 30</th>\n      <th>Momentum 7</th>\n    </tr>\n  </thead>\n  <tbody>\n    <tr>\n      <th>0</th>\n      <td>2006-05-12</td>\n      <td>23.60</td>\n      <td>23.33</td>\n      <td>23.25</td>\n      <td>23.68</td>\n      <td>16.69</td>\n      <td>651535232</td>\n      <td>23.680000</td>\n      <td>23.680000</td>\n      <td>1.09</td>\n    </tr>\n    <tr>\n      <th>1</th>\n      <td>2006-05-15</td>\n      <td>23.50</td>\n      <td>23.25</td>\n      <td>22.40</td>\n      <td>23.45</td>\n      <td>16.53</td>\n      <td>1336049152</td>\n      <td>23.647143</td>\n      <td>23.672333</td>\n      <td>0.58</td>\n    </tr>\n    <tr>\n      <th>2</th>\n      <td>2006-05-16</td>\n      <td>23.30</td>\n      <td>23.12</td>\n      <td>22.60</td>\n      <td>22.85</td>\n      <td>16.10</td>\n      <td>671452672</td>\n      <td>23.528571</td>\n      <td>23.644667</td>\n      <td>-0.17</td>\n    </tr>\n    <tr>\n      <th>3</th>\n      <td>2006-05-17</td>\n      <td>23.08</td>\n      <td>22.73</td>\n      <td>22.00</td>\n      <td>23.00</td>\n      <td>16.21</td>\n      <td>601421120</td>\n      <td>23.431429</td>\n      <td>23.622000</td>\n      <td>0.59</td>\n    </tr>\n    <tr>\n      <th>4</th>\n      <td>2006-05-18</td>\n      <td>22.50</td>\n      <td>22.50</td>\n      <td>21.66</td>\n      <td>21.75</td>\n      <td>15.32</td>\n      <td>17677400</td>\n      <td>23.155714</td>\n      <td>23.557667</td>\n      <td>-0.62</td>\n    </tr>\n    <tr>\n      <th>...</th>\n      <td>...</td>\n      <td>...</td>\n      <td>...</td>\n      <td>...</td>\n      <td>...</td>\n      <td>...</td>\n      <td>...</td>\n      <td>...</td>\n      <td>...</td>\n      <td>...</td>\n    </tr>\n    <tr>\n      <th>3672</th>\n      <td>2021-03-08</td>\n      <td>22.28</td>\n      <td>21.94</td>\n      <td>20.96</td>\n      <td>21.10</td>\n      <td>21.10</td>\n      <td>141142800</td>\n      <td>21.875714</td>\n      <td>25.917000</td>\n      <td>-1.11</td>\n    </tr>\n    <tr>\n      <th>3673</th>\n      <td>2021-03-09</td>\n      <td>21.95</td>\n      <td>21.36</td>\n      <td>20.86</td>\n      <td>21.59</td>\n      <td>21.59</td>\n      <td>122648000</td>\n      <td>21.782857</td>\n      <td>25.696333</td>\n      <td>-0.22</td>\n    </tr>\n    <tr>\n      <th>3674</th>\n      <td>2021-03-10</td>\n      <td>22.34</td>\n      <td>21.94</td>\n      <td>21.58</td>\n      <td>22.34</td>\n      <td>22.34</td>\n      <td>111744100</td>\n      <td>21.831429</td>\n      <td>25.522667</td>\n      <td>0.89</td>\n    </tr>\n    <tr>\n      <th>3675</th>\n      <td>2021-03-11</td>\n      <td>23.49</td>\n      <td>22.62</td>\n      <td>22.61</td>\n      <td>23.29</td>\n      <td>23.29</td>\n      <td>130577500</td>\n      <td>22.017143</td>\n      <td>25.396000</td>\n      <td>0.84</td>\n    </tr>\n    <tr>\n      <th>3676</th>\n      <td>2021-03-12</td>\n      <td>23.38</td>\n      <td>23.15</td>\n      <td>22.86</td>\n      <td>23.17</td>\n      <td>23.17</td>\n      <td>68123200</td>\n      <td>22.300000</td>\n      <td>25.268333</td>\n      <td>0.50</td>\n    </tr>\n  </tbody>\n</table>\n<p>3677 rows × 10 columns</p>\n</div>"
     },
     "metadata": {},
     "execution_count": 5
    }
   ],
   "source": [
    "dataset_train"
   ]
  },
  {
   "cell_type": "code",
   "execution_count": 6,
   "metadata": {},
   "outputs": [],
   "source": [
    "from sklearn.preprocessing import MinMaxScaler\n",
    "sc = MinMaxScaler(feature_range = (0, 1))\n",
    "training_set_scaled = sc.fit_transform(training_set)"
   ]
  },
  {
   "cell_type": "code",
   "execution_count": 7,
   "metadata": {},
   "outputs": [
    {
     "output_type": "execute_result",
     "data": {
      "text/plain": [
       "(3677, 1)"
      ]
     },
     "metadata": {},
     "execution_count": 7
    }
   ],
   "source": [
    "training_set_scaled.shape"
   ]
  },
  {
   "cell_type": "code",
   "execution_count": 8,
   "metadata": {},
   "outputs": [],
   "source": [
    "X_train = []\n",
    "y_train = []\n",
    "for i in range(60, training_set_scaled.shape[0]):\n",
    "    X_train.append(training_set_scaled[i-60:i, 0])\n",
    "    y_train.append(training_set_scaled[i, 0])\n",
    "X_train, y_train = np.array(X_train), np.array(y_train)\n",
    "\n",
    "X_train = np.reshape(X_train, (X_train.shape[0], X_train.shape[1], 1))"
   ]
  },
  {
   "cell_type": "code",
   "execution_count": 10,
   "metadata": {},
   "outputs": [],
   "source": [
    "from keras.models import Sequential\n",
    "from keras.layers import Dense\n",
    "from keras.layers import LSTM\n",
    "from keras.layers import Dropout"
   ]
  },
  {
   "cell_type": "code",
   "execution_count": 11,
   "metadata": {},
   "outputs": [
    {
     "output_type": "stream",
     "name": "stdout",
     "text": [
      "Epoch 1/100\n",
      "114/114 [==============================] - 27s 115ms/step - loss: 0.0166\n",
      "Epoch 2/100\n",
      "114/114 [==============================] - 12s 107ms/step - loss: 0.0035\n",
      "Epoch 3/100\n",
      "114/114 [==============================] - 11s 96ms/step - loss: 0.0044\n",
      "Epoch 4/100\n",
      "114/114 [==============================] - 11s 98ms/step - loss: 0.0031\n",
      "Epoch 5/100\n",
      "114/114 [==============================] - 12s 101ms/step - loss: 0.0027\n",
      "Epoch 6/100\n",
      "114/114 [==============================] - 11s 95ms/step - loss: 0.0020\n",
      "Epoch 7/100\n",
      "114/114 [==============================] - 11s 95ms/step - loss: 0.0020\n",
      "Epoch 8/100\n",
      "114/114 [==============================] - 11s 95ms/step - loss: 0.0017\n",
      "Epoch 9/100\n",
      "114/114 [==============================] - 10s 92ms/step - loss: 0.0017\n",
      "Epoch 10/100\n",
      "114/114 [==============================] - 11s 101ms/step - loss: 0.0019\n",
      "Epoch 11/100\n",
      "114/114 [==============================] - 12s 101ms/step - loss: 0.0016\n",
      "Epoch 12/100\n",
      "114/114 [==============================] - 12s 103ms/step - loss: 0.0013\n",
      "Epoch 13/100\n",
      "114/114 [==============================] - 12s 107ms/step - loss: 0.0013\n",
      "Epoch 14/100\n",
      "114/114 [==============================] - 12s 104ms/step - loss: 0.0014\n",
      "Epoch 15/100\n",
      "114/114 [==============================] - 12s 105ms/step - loss: 0.0015\n",
      "Epoch 16/100\n",
      "114/114 [==============================] - 12s 110ms/step - loss: 0.0016\n",
      "Epoch 17/100\n",
      "114/114 [==============================] - 12s 108ms/step - loss: 0.0017\n",
      "Epoch 18/100\n",
      "114/114 [==============================] - 12s 103ms/step - loss: 9.6387e-04\n",
      "Epoch 19/100\n",
      "114/114 [==============================] - 11s 94ms/step - loss: 9.4477e-04\n",
      "Epoch 20/100\n",
      "114/114 [==============================] - 10s 88ms/step - loss: 9.7678e-04\n",
      "Epoch 21/100\n",
      "114/114 [==============================] - 10s 89ms/step - loss: 9.5121e-04\n",
      "Epoch 22/100\n",
      "114/114 [==============================] - 10s 87ms/step - loss: 9.2385e-04\n",
      "Epoch 23/100\n",
      "114/114 [==============================] - 12s 107ms/step - loss: 8.2305e-04\n",
      "Epoch 24/100\n",
      "114/114 [==============================] - 12s 104ms/step - loss: 9.5072e-04\n",
      "Epoch 25/100\n",
      "114/114 [==============================] - 12s 105ms/step - loss: 9.9031e-04\n",
      "Epoch 26/100\n",
      "114/114 [==============================] - 10s 87ms/step - loss: 8.6563e-04\n",
      "Epoch 27/100\n",
      "114/114 [==============================] - 12s 110ms/step - loss: 8.8136e-04\n",
      "Epoch 28/100\n",
      "114/114 [==============================] - 13s 115ms/step - loss: 7.4032e-04\n",
      "Epoch 29/100\n",
      "114/114 [==============================] - 12s 101ms/step - loss: 7.0156e-04\n",
      "Epoch 30/100\n",
      "114/114 [==============================] - 12s 107ms/step - loss: 7.9474e-04\n",
      "Epoch 31/100\n",
      "114/114 [==============================] - 11s 98ms/step - loss: 6.9402e-04\n",
      "Epoch 32/100\n",
      "114/114 [==============================] - 11s 93ms/step - loss: 7.3296e-04\n",
      "Epoch 33/100\n",
      "114/114 [==============================] - 11s 99ms/step - loss: 6.7842e-04\n",
      "Epoch 34/100\n",
      "114/114 [==============================] - 12s 103ms/step - loss: 7.3186e-04\n",
      "Epoch 35/100\n",
      "114/114 [==============================] - 10s 90ms/step - loss: 7.3236e-04\n",
      "Epoch 36/100\n",
      "114/114 [==============================] - 9s 82ms/step - loss: 9.9286e-04\n",
      "Epoch 37/100\n",
      "114/114 [==============================] - 10s 85ms/step - loss: 7.0915e-04\n",
      "Epoch 38/100\n",
      "114/114 [==============================] - 9s 82ms/step - loss: 5.2951e-04\n",
      "Epoch 39/100\n",
      "114/114 [==============================] - 10s 85ms/step - loss: 6.0666e-04\n",
      "Epoch 40/100\n",
      "114/114 [==============================] - 10s 92ms/step - loss: 5.7503e-04\n",
      "Epoch 41/100\n",
      "114/114 [==============================] - 10s 87ms/step - loss: 6.6986e-04\n",
      "Epoch 42/100\n",
      "114/114 [==============================] - 9s 81ms/step - loss: 5.9016e-04\n",
      "Epoch 43/100\n",
      "114/114 [==============================] - 10s 91ms/step - loss: 5.3686e-04\n",
      "Epoch 44/100\n",
      "114/114 [==============================] - 10s 84ms/step - loss: 5.3394e-04\n",
      "Epoch 45/100\n",
      "114/114 [==============================] - 10s 89ms/step - loss: 6.0628e-04\n",
      "Epoch 46/100\n",
      "114/114 [==============================] - 10s 88ms/step - loss: 5.8329e-04\n",
      "Epoch 47/100\n",
      "114/114 [==============================] - 11s 95ms/step - loss: 6.6208e-04\n",
      "Epoch 48/100\n",
      "114/114 [==============================] - 10s 90ms/step - loss: 5.7811e-04\n",
      "Epoch 49/100\n",
      "114/114 [==============================] - 10s 86ms/step - loss: 5.9741e-04\n",
      "Epoch 50/100\n",
      "114/114 [==============================] - 10s 91ms/step - loss: 5.1873e-04\n",
      "Epoch 51/100\n",
      "114/114 [==============================] - 10s 86ms/step - loss: 5.3771e-04\n",
      "Epoch 52/100\n",
      "114/114 [==============================] - 10s 86ms/step - loss: 6.3314e-04\n",
      "Epoch 53/100\n",
      "114/114 [==============================] - 10s 86ms/step - loss: 5.8253e-04\n",
      "Epoch 54/100\n",
      "114/114 [==============================] - 9s 82ms/step - loss: 5.3544e-04\n",
      "Epoch 55/100\n",
      "114/114 [==============================] - 10s 85ms/step - loss: 5.5272e-04\n",
      "Epoch 56/100\n",
      "114/114 [==============================] - 10s 87ms/step - loss: 6.0149e-04\n",
      "Epoch 57/100\n",
      "114/114 [==============================] - 10s 87ms/step - loss: 4.9002e-04\n",
      "Epoch 58/100\n",
      "114/114 [==============================] - 10s 85ms/step - loss: 5.1542e-04\n",
      "Epoch 59/100\n",
      "114/114 [==============================] - 9s 81ms/step - loss: 5.7598e-04\n",
      "Epoch 60/100\n",
      "114/114 [==============================] - 10s 85ms/step - loss: 6.2797e-04\n",
      "Epoch 61/100\n",
      "114/114 [==============================] - 10s 88ms/step - loss: 5.8971e-04\n",
      "Epoch 62/100\n",
      "114/114 [==============================] - 10s 88ms/step - loss: 5.3881e-04\n",
      "Epoch 63/100\n",
      "114/114 [==============================] - 10s 87ms/step - loss: 4.6673e-04\n",
      "Epoch 64/100\n",
      "114/114 [==============================] - 11s 93ms/step - loss: 4.8513e-04\n",
      "Epoch 65/100\n",
      "114/114 [==============================] - 10s 85ms/step - loss: 4.6134e-04\n",
      "Epoch 66/100\n",
      "114/114 [==============================] - 9s 81ms/step - loss: 5.1468e-04\n",
      "Epoch 67/100\n",
      "114/114 [==============================] - 9s 83ms/step - loss: 5.5447e-04\n",
      "Epoch 68/100\n",
      "114/114 [==============================] - 11s 97ms/step - loss: 4.3879e-04\n",
      "Epoch 69/100\n",
      "114/114 [==============================] - 10s 87ms/step - loss: 4.9226e-04\n",
      "Epoch 70/100\n",
      "114/114 [==============================] - 11s 93ms/step - loss: 5.1116e-04\n",
      "Epoch 71/100\n",
      "114/114 [==============================] - 9s 83ms/step - loss: 4.7618e-04\n",
      "Epoch 72/100\n",
      "114/114 [==============================] - 10s 92ms/step - loss: 5.4699e-04\n",
      "Epoch 73/100\n",
      "114/114 [==============================] - 10s 89ms/step - loss: 4.6405e-04\n",
      "Epoch 74/100\n",
      "114/114 [==============================] - 11s 99ms/step - loss: 4.7377e-04\n",
      "Epoch 75/100\n",
      "114/114 [==============================] - 11s 93ms/step - loss: 4.1281e-04\n",
      "Epoch 76/100\n",
      "114/114 [==============================] - 11s 95ms/step - loss: 6.6174e-04\n",
      "Epoch 77/100\n",
      "114/114 [==============================] - 11s 98ms/step - loss: 9.9864e-04\n",
      "Epoch 78/100\n",
      "114/114 [==============================] - 10s 85ms/step - loss: 4.5940e-04\n",
      "Epoch 79/100\n",
      "114/114 [==============================] - 10s 88ms/step - loss: 5.1061e-04\n",
      "Epoch 80/100\n",
      "114/114 [==============================] - 10s 88ms/step - loss: 8.7508e-04\n",
      "Epoch 81/100\n",
      "114/114 [==============================] - 11s 100ms/step - loss: 4.4562e-04\n",
      "Epoch 82/100\n",
      "114/114 [==============================] - 10s 88ms/step - loss: 4.8984e-04\n",
      "Epoch 83/100\n",
      "114/114 [==============================] - 11s 94ms/step - loss: 4.3798e-04\n",
      "Epoch 84/100\n",
      "114/114 [==============================] - 11s 92ms/step - loss: 4.6937e-04\n",
      "Epoch 85/100\n",
      "114/114 [==============================] - 10s 84ms/step - loss: 4.4759e-04\n",
      "Epoch 86/100\n",
      "114/114 [==============================] - 11s 96ms/step - loss: 4.8341e-04\n",
      "Epoch 87/100\n",
      "114/114 [==============================] - 10s 87ms/step - loss: 4.2722e-04\n",
      "Epoch 88/100\n",
      "114/114 [==============================] - 10s 87ms/step - loss: 4.3886e-04\n",
      "Epoch 89/100\n",
      "114/114 [==============================] - 10s 90ms/step - loss: 4.6000e-04\n",
      "Epoch 90/100\n",
      "114/114 [==============================] - 14s 124ms/step - loss: 8.7039e-04\n",
      "Epoch 91/100\n",
      "114/114 [==============================] - 15s 128ms/step - loss: 6.5906e-04\n",
      "Epoch 92/100\n",
      "114/114 [==============================] - 14s 126ms/step - loss: 4.3595e-04\n",
      "Epoch 93/100\n",
      "114/114 [==============================] - 11s 100ms/step - loss: 4.4548e-04\n",
      "Epoch 94/100\n",
      "114/114 [==============================] - 13s 115ms/step - loss: 4.8679e-04\n",
      "Epoch 95/100\n",
      "114/114 [==============================] - 14s 122ms/step - loss: 4.1897e-04\n",
      "Epoch 96/100\n",
      "114/114 [==============================] - 16s 139ms/step - loss: 5.0831e-04\n",
      "Epoch 97/100\n",
      "114/114 [==============================] - 14s 120ms/step - loss: 4.3424e-04\n",
      "Epoch 98/100\n",
      "114/114 [==============================] - 11s 96ms/step - loss: 4.9337e-04\n",
      "Epoch 99/100\n",
      "114/114 [==============================] - 10s 90ms/step - loss: 3.9359e-04\n",
      "Epoch 100/100\n",
      "114/114 [==============================] - 10s 87ms/step - loss: 4.7726e-04\n"
     ]
    },
    {
     "output_type": "execute_result",
     "data": {
      "text/plain": [
       "<tensorflow.python.keras.callbacks.History at 0x1f6d80283d0>"
      ]
     },
     "metadata": {},
     "execution_count": 11
    }
   ],
   "source": [
    "regressor = Sequential()\n",
    "\n",
    "regressor.add(LSTM(units = 50, return_sequences = True, input_shape = (X_train.shape[1], 1)))\n",
    "regressor.add(Dropout(0.2))\n",
    "\n",
    "regressor.add(LSTM(units = 50, return_sequences = True))\n",
    "regressor.add(Dropout(0.2))\n",
    "\n",
    "regressor.add(LSTM(units = 50, return_sequences = True))\n",
    "regressor.add(Dropout(0.2))\n",
    "\n",
    "regressor.add(LSTM(units = 50))\n",
    "regressor.add(Dropout(0.2))\n",
    "\n",
    "regressor.add(Dense(units = 1))\n",
    "\n",
    "regressor.compile(optimizer = 'adam', loss = 'mean_squared_error')\n",
    "\n",
    "regressor.fit(X_train, y_train, epochs = 100, batch_size = 32)"
   ]
  },
  {
   "cell_type": "code",
   "execution_count": 12,
   "metadata": {},
   "outputs": [],
   "source": [
    "dataset_test = dataset[len(dataset)-data_test_size:]\n",
    "real_stock_price = dataset_test.iloc[:, 1:2].values"
   ]
  },
  {
   "cell_type": "code",
   "execution_count": 13,
   "metadata": {},
   "outputs": [],
   "source": [
    "dataset_total = pd.concat((dataset_train['val_open'], dataset_test['val_open']), axis = 0)\n",
    "inputs = dataset_total[len(dataset_total) - len(dataset_test) - 60:].values\n",
    "inputs = inputs.reshape(-1,1)\n",
    "inputs = sc.transform(inputs)\n",
    "X_test = []\n",
    "for i in range(60, 60+data_test_size):\n",
    "    X_test.append(inputs[i-60:i, 0])\n",
    "X_test = np.array(X_test)\n",
    "X_test = np.reshape(X_test, (X_test.shape[0], X_test.shape[1], 1))\n",
    "predicted_stock_price = regressor.predict(X_test)\n",
    "predicted_stock_price = sc.inverse_transform(predicted_stock_price)"
   ]
  },
  {
   "cell_type": "code",
   "execution_count": 14,
   "metadata": {},
   "outputs": [
    {
     "output_type": "display_data",
     "data": {
      "text/plain": "<Figure size 432x288 with 1 Axes>",
      "image/svg+xml": "<?xml version=\"1.0\" encoding=\"utf-8\" standalone=\"no\"?>\r\n<!DOCTYPE svg PUBLIC \"-//W3C//DTD SVG 1.1//EN\"\r\n  \"http://www.w3.org/Graphics/SVG/1.1/DTD/svg11.dtd\">\r\n<svg height=\"277.314375pt\" version=\"1.1\" viewBox=\"0 0 398.50625 277.314375\" width=\"398.50625pt\" xmlns=\"http://www.w3.org/2000/svg\" xmlns:xlink=\"http://www.w3.org/1999/xlink\">\r\n <metadata>\r\n  <rdf:RDF xmlns:cc=\"http://creativecommons.org/ns#\" xmlns:dc=\"http://purl.org/dc/elements/1.1/\" xmlns:rdf=\"http://www.w3.org/1999/02/22-rdf-syntax-ns#\">\r\n   <cc:Work>\r\n    <dc:type rdf:resource=\"http://purl.org/dc/dcmitype/StillImage\"/>\r\n    <dc:date>2021-04-05T22:04:42.856803</dc:date>\r\n    <dc:format>image/svg+xml</dc:format>\r\n    <dc:creator>\r\n     <cc:Agent>\r\n      <dc:title>Matplotlib v3.4.1, https://matplotlib.org/</dc:title>\r\n     </cc:Agent>\r\n    </dc:creator>\r\n   </cc:Work>\r\n  </rdf:RDF>\r\n </metadata>\r\n <defs>\r\n  <style type=\"text/css\">*{stroke-linecap:butt;stroke-linejoin:round;}</style>\r\n </defs>\r\n <g id=\"figure_1\">\r\n  <g id=\"patch_1\">\r\n   <path d=\"M 0 277.314375 \r\nL 398.50625 277.314375 \r\nL 398.50625 0 \r\nL 0 0 \r\nz\r\n\" style=\"fill:none;\"/>\r\n  </g>\r\n  <g id=\"axes_1\">\r\n   <g id=\"patch_2\">\r\n    <path d=\"M 56.50625 239.758125 \r\nL 391.30625 239.758125 \r\nL 391.30625 22.318125 \r\nL 56.50625 22.318125 \r\nz\r\n\" style=\"fill:#ffffff;\"/>\r\n   </g>\r\n   <g id=\"matplotlib.axis_1\">\r\n    <g id=\"xtick_1\">\r\n     <g id=\"line2d_1\">\r\n      <defs>\r\n       <path d=\"M 0 0 \r\nL 0 3.5 \r\n\" id=\"m8a6e6074b1\" style=\"stroke:#000000;stroke-width:0.8;\"/>\r\n      </defs>\r\n      <g>\r\n       <use style=\"stroke:#000000;stroke-width:0.8;\" x=\"71.724432\" xlink:href=\"#m8a6e6074b1\" y=\"239.758125\"/>\r\n      </g>\r\n     </g>\r\n     <g id=\"text_1\">\r\n      <!-- 0 -->\r\n      <g transform=\"translate(68.543182 254.356562)scale(0.1 -0.1)\">\r\n       <defs>\r\n        <path d=\"M 2034 4250 \r\nQ 1547 4250 1301 3770 \r\nQ 1056 3291 1056 2328 \r\nQ 1056 1369 1301 889 \r\nQ 1547 409 2034 409 \r\nQ 2525 409 2770 889 \r\nQ 3016 1369 3016 2328 \r\nQ 3016 3291 2770 3770 \r\nQ 2525 4250 2034 4250 \r\nz\r\nM 2034 4750 \r\nQ 2819 4750 3233 4129 \r\nQ 3647 3509 3647 2328 \r\nQ 3647 1150 3233 529 \r\nQ 2819 -91 2034 -91 \r\nQ 1250 -91 836 529 \r\nQ 422 1150 422 2328 \r\nQ 422 3509 836 4129 \r\nQ 1250 4750 2034 4750 \r\nz\r\n\" id=\"DejaVuSans-30\" transform=\"scale(0.015625)\"/>\r\n       </defs>\r\n       <use xlink:href=\"#DejaVuSans-30\"/>\r\n      </g>\r\n     </g>\r\n    </g>\r\n    <g id=\"xtick_2\">\r\n     <g id=\"line2d_2\">\r\n      <g>\r\n       <use style=\"stroke:#000000;stroke-width:0.8;\" x=\"118.549607\" xlink:href=\"#m8a6e6074b1\" y=\"239.758125\"/>\r\n      </g>\r\n     </g>\r\n     <g id=\"text_2\">\r\n      <!-- 2 -->\r\n      <g transform=\"translate(115.368357 254.356562)scale(0.1 -0.1)\">\r\n       <defs>\r\n        <path d=\"M 1228 531 \r\nL 3431 531 \r\nL 3431 0 \r\nL 469 0 \r\nL 469 531 \r\nQ 828 903 1448 1529 \r\nQ 2069 2156 2228 2338 \r\nQ 2531 2678 2651 2914 \r\nQ 2772 3150 2772 3378 \r\nQ 2772 3750 2511 3984 \r\nQ 2250 4219 1831 4219 \r\nQ 1534 4219 1204 4116 \r\nQ 875 4013 500 3803 \r\nL 500 4441 \r\nQ 881 4594 1212 4672 \r\nQ 1544 4750 1819 4750 \r\nQ 2544 4750 2975 4387 \r\nQ 3406 4025 3406 3419 \r\nQ 3406 3131 3298 2873 \r\nQ 3191 2616 2906 2266 \r\nQ 2828 2175 2409 1742 \r\nQ 1991 1309 1228 531 \r\nz\r\n\" id=\"DejaVuSans-32\" transform=\"scale(0.015625)\"/>\r\n       </defs>\r\n       <use xlink:href=\"#DejaVuSans-32\"/>\r\n      </g>\r\n     </g>\r\n    </g>\r\n    <g id=\"xtick_3\">\r\n     <g id=\"line2d_3\">\r\n      <g>\r\n       <use style=\"stroke:#000000;stroke-width:0.8;\" x=\"165.374781\" xlink:href=\"#m8a6e6074b1\" y=\"239.758125\"/>\r\n      </g>\r\n     </g>\r\n     <g id=\"text_3\">\r\n      <!-- 4 -->\r\n      <g transform=\"translate(162.193531 254.356562)scale(0.1 -0.1)\">\r\n       <defs>\r\n        <path d=\"M 2419 4116 \r\nL 825 1625 \r\nL 2419 1625 \r\nL 2419 4116 \r\nz\r\nM 2253 4666 \r\nL 3047 4666 \r\nL 3047 1625 \r\nL 3713 1625 \r\nL 3713 1100 \r\nL 3047 1100 \r\nL 3047 0 \r\nL 2419 0 \r\nL 2419 1100 \r\nL 313 1100 \r\nL 313 1709 \r\nL 2253 4666 \r\nz\r\n\" id=\"DejaVuSans-34\" transform=\"scale(0.015625)\"/>\r\n       </defs>\r\n       <use xlink:href=\"#DejaVuSans-34\"/>\r\n      </g>\r\n     </g>\r\n    </g>\r\n    <g id=\"xtick_4\">\r\n     <g id=\"line2d_4\">\r\n      <g>\r\n       <use style=\"stroke:#000000;stroke-width:0.8;\" x=\"212.199956\" xlink:href=\"#m8a6e6074b1\" y=\"239.758125\"/>\r\n      </g>\r\n     </g>\r\n     <g id=\"text_4\">\r\n      <!-- 6 -->\r\n      <g transform=\"translate(209.018706 254.356562)scale(0.1 -0.1)\">\r\n       <defs>\r\n        <path d=\"M 2113 2584 \r\nQ 1688 2584 1439 2293 \r\nQ 1191 2003 1191 1497 \r\nQ 1191 994 1439 701 \r\nQ 1688 409 2113 409 \r\nQ 2538 409 2786 701 \r\nQ 3034 994 3034 1497 \r\nQ 3034 2003 2786 2293 \r\nQ 2538 2584 2113 2584 \r\nz\r\nM 3366 4563 \r\nL 3366 3988 \r\nQ 3128 4100 2886 4159 \r\nQ 2644 4219 2406 4219 \r\nQ 1781 4219 1451 3797 \r\nQ 1122 3375 1075 2522 \r\nQ 1259 2794 1537 2939 \r\nQ 1816 3084 2150 3084 \r\nQ 2853 3084 3261 2657 \r\nQ 3669 2231 3669 1497 \r\nQ 3669 778 3244 343 \r\nQ 2819 -91 2113 -91 \r\nQ 1303 -91 875 529 \r\nQ 447 1150 447 2328 \r\nQ 447 3434 972 4092 \r\nQ 1497 4750 2381 4750 \r\nQ 2619 4750 2861 4703 \r\nQ 3103 4656 3366 4563 \r\nz\r\n\" id=\"DejaVuSans-36\" transform=\"scale(0.015625)\"/>\r\n       </defs>\r\n       <use xlink:href=\"#DejaVuSans-36\"/>\r\n      </g>\r\n     </g>\r\n    </g>\r\n    <g id=\"xtick_5\">\r\n     <g id=\"line2d_5\">\r\n      <g>\r\n       <use style=\"stroke:#000000;stroke-width:0.8;\" x=\"259.025131\" xlink:href=\"#m8a6e6074b1\" y=\"239.758125\"/>\r\n      </g>\r\n     </g>\r\n     <g id=\"text_5\">\r\n      <!-- 8 -->\r\n      <g transform=\"translate(255.843881 254.356562)scale(0.1 -0.1)\">\r\n       <defs>\r\n        <path d=\"M 2034 2216 \r\nQ 1584 2216 1326 1975 \r\nQ 1069 1734 1069 1313 \r\nQ 1069 891 1326 650 \r\nQ 1584 409 2034 409 \r\nQ 2484 409 2743 651 \r\nQ 3003 894 3003 1313 \r\nQ 3003 1734 2745 1975 \r\nQ 2488 2216 2034 2216 \r\nz\r\nM 1403 2484 \r\nQ 997 2584 770 2862 \r\nQ 544 3141 544 3541 \r\nQ 544 4100 942 4425 \r\nQ 1341 4750 2034 4750 \r\nQ 2731 4750 3128 4425 \r\nQ 3525 4100 3525 3541 \r\nQ 3525 3141 3298 2862 \r\nQ 3072 2584 2669 2484 \r\nQ 3125 2378 3379 2068 \r\nQ 3634 1759 3634 1313 \r\nQ 3634 634 3220 271 \r\nQ 2806 -91 2034 -91 \r\nQ 1263 -91 848 271 \r\nQ 434 634 434 1313 \r\nQ 434 1759 690 2068 \r\nQ 947 2378 1403 2484 \r\nz\r\nM 1172 3481 \r\nQ 1172 3119 1398 2916 \r\nQ 1625 2713 2034 2713 \r\nQ 2441 2713 2670 2916 \r\nQ 2900 3119 2900 3481 \r\nQ 2900 3844 2670 4047 \r\nQ 2441 4250 2034 4250 \r\nQ 1625 4250 1398 4047 \r\nQ 1172 3844 1172 3481 \r\nz\r\n\" id=\"DejaVuSans-38\" transform=\"scale(0.015625)\"/>\r\n       </defs>\r\n       <use xlink:href=\"#DejaVuSans-38\"/>\r\n      </g>\r\n     </g>\r\n    </g>\r\n    <g id=\"xtick_6\">\r\n     <g id=\"line2d_6\">\r\n      <g>\r\n       <use style=\"stroke:#000000;stroke-width:0.8;\" x=\"305.850306\" xlink:href=\"#m8a6e6074b1\" y=\"239.758125\"/>\r\n      </g>\r\n     </g>\r\n     <g id=\"text_6\">\r\n      <!-- 10 -->\r\n      <g transform=\"translate(299.487806 254.356562)scale(0.1 -0.1)\">\r\n       <defs>\r\n        <path d=\"M 794 531 \r\nL 1825 531 \r\nL 1825 4091 \r\nL 703 3866 \r\nL 703 4441 \r\nL 1819 4666 \r\nL 2450 4666 \r\nL 2450 531 \r\nL 3481 531 \r\nL 3481 0 \r\nL 794 0 \r\nL 794 531 \r\nz\r\n\" id=\"DejaVuSans-31\" transform=\"scale(0.015625)\"/>\r\n       </defs>\r\n       <use xlink:href=\"#DejaVuSans-31\"/>\r\n       <use x=\"63.623047\" xlink:href=\"#DejaVuSans-30\"/>\r\n      </g>\r\n     </g>\r\n    </g>\r\n    <g id=\"xtick_7\">\r\n     <g id=\"line2d_7\">\r\n      <g>\r\n       <use style=\"stroke:#000000;stroke-width:0.8;\" x=\"352.675481\" xlink:href=\"#m8a6e6074b1\" y=\"239.758125\"/>\r\n      </g>\r\n     </g>\r\n     <g id=\"text_7\">\r\n      <!-- 12 -->\r\n      <g transform=\"translate(346.312981 254.356562)scale(0.1 -0.1)\">\r\n       <use xlink:href=\"#DejaVuSans-31\"/>\r\n       <use x=\"63.623047\" xlink:href=\"#DejaVuSans-32\"/>\r\n      </g>\r\n     </g>\r\n    </g>\r\n    <g id=\"text_8\">\r\n     <!-- Time -->\r\n     <g transform=\"translate(211.672656 268.034687)scale(0.1 -0.1)\">\r\n      <defs>\r\n       <path d=\"M -19 4666 \r\nL 3928 4666 \r\nL 3928 4134 \r\nL 2272 4134 \r\nL 2272 0 \r\nL 1638 0 \r\nL 1638 4134 \r\nL -19 4134 \r\nL -19 4666 \r\nz\r\n\" id=\"DejaVuSans-54\" transform=\"scale(0.015625)\"/>\r\n       <path d=\"M 603 3500 \r\nL 1178 3500 \r\nL 1178 0 \r\nL 603 0 \r\nL 603 3500 \r\nz\r\nM 603 4863 \r\nL 1178 4863 \r\nL 1178 4134 \r\nL 603 4134 \r\nL 603 4863 \r\nz\r\n\" id=\"DejaVuSans-69\" transform=\"scale(0.015625)\"/>\r\n       <path d=\"M 3328 2828 \r\nQ 3544 3216 3844 3400 \r\nQ 4144 3584 4550 3584 \r\nQ 5097 3584 5394 3201 \r\nQ 5691 2819 5691 2113 \r\nL 5691 0 \r\nL 5113 0 \r\nL 5113 2094 \r\nQ 5113 2597 4934 2840 \r\nQ 4756 3084 4391 3084 \r\nQ 3944 3084 3684 2787 \r\nQ 3425 2491 3425 1978 \r\nL 3425 0 \r\nL 2847 0 \r\nL 2847 2094 \r\nQ 2847 2600 2669 2842 \r\nQ 2491 3084 2119 3084 \r\nQ 1678 3084 1418 2786 \r\nQ 1159 2488 1159 1978 \r\nL 1159 0 \r\nL 581 0 \r\nL 581 3500 \r\nL 1159 3500 \r\nL 1159 2956 \r\nQ 1356 3278 1631 3431 \r\nQ 1906 3584 2284 3584 \r\nQ 2666 3584 2933 3390 \r\nQ 3200 3197 3328 2828 \r\nz\r\n\" id=\"DejaVuSans-6d\" transform=\"scale(0.015625)\"/>\r\n       <path d=\"M 3597 1894 \r\nL 3597 1613 \r\nL 953 1613 \r\nQ 991 1019 1311 708 \r\nQ 1631 397 2203 397 \r\nQ 2534 397 2845 478 \r\nQ 3156 559 3463 722 \r\nL 3463 178 \r\nQ 3153 47 2828 -22 \r\nQ 2503 -91 2169 -91 \r\nQ 1331 -91 842 396 \r\nQ 353 884 353 1716 \r\nQ 353 2575 817 3079 \r\nQ 1281 3584 2069 3584 \r\nQ 2775 3584 3186 3129 \r\nQ 3597 2675 3597 1894 \r\nz\r\nM 3022 2063 \r\nQ 3016 2534 2758 2815 \r\nQ 2500 3097 2075 3097 \r\nQ 1594 3097 1305 2825 \r\nQ 1016 2553 972 2059 \r\nL 3022 2063 \r\nz\r\n\" id=\"DejaVuSans-65\" transform=\"scale(0.015625)\"/>\r\n      </defs>\r\n      <use xlink:href=\"#DejaVuSans-54\"/>\r\n      <use x=\"57.958984\" xlink:href=\"#DejaVuSans-69\"/>\r\n      <use x=\"85.742188\" xlink:href=\"#DejaVuSans-6d\"/>\r\n      <use x=\"183.154297\" xlink:href=\"#DejaVuSans-65\"/>\r\n     </g>\r\n    </g>\r\n   </g>\r\n   <g id=\"matplotlib.axis_2\">\r\n    <g id=\"ytick_1\">\r\n     <g id=\"line2d_8\">\r\n      <defs>\r\n       <path d=\"M 0 0 \r\nL -3.5 0 \r\n\" id=\"m01cdc99f53\" style=\"stroke:#000000;stroke-width:0.8;\"/>\r\n      </defs>\r\n      <g>\r\n       <use style=\"stroke:#000000;stroke-width:0.8;\" x=\"56.50625\" xlink:href=\"#m01cdc99f53\" y=\"220.39826\"/>\r\n      </g>\r\n     </g>\r\n     <g id=\"text_9\">\r\n      <!-- 22.75 -->\r\n      <g transform=\"translate(20.878125 224.197479)scale(0.1 -0.1)\">\r\n       <defs>\r\n        <path d=\"M 684 794 \r\nL 1344 794 \r\nL 1344 0 \r\nL 684 0 \r\nL 684 794 \r\nz\r\n\" id=\"DejaVuSans-2e\" transform=\"scale(0.015625)\"/>\r\n        <path d=\"M 525 4666 \r\nL 3525 4666 \r\nL 3525 4397 \r\nL 1831 0 \r\nL 1172 0 \r\nL 2766 4134 \r\nL 525 4134 \r\nL 525 4666 \r\nz\r\n\" id=\"DejaVuSans-37\" transform=\"scale(0.015625)\"/>\r\n        <path d=\"M 691 4666 \r\nL 3169 4666 \r\nL 3169 4134 \r\nL 1269 4134 \r\nL 1269 2991 \r\nQ 1406 3038 1543 3061 \r\nQ 1681 3084 1819 3084 \r\nQ 2600 3084 3056 2656 \r\nQ 3513 2228 3513 1497 \r\nQ 3513 744 3044 326 \r\nQ 2575 -91 1722 -91 \r\nQ 1428 -91 1123 -41 \r\nQ 819 9 494 109 \r\nL 494 744 \r\nQ 775 591 1075 516 \r\nQ 1375 441 1709 441 \r\nQ 2250 441 2565 725 \r\nQ 2881 1009 2881 1497 \r\nQ 2881 1984 2565 2268 \r\nQ 2250 2553 1709 2553 \r\nQ 1456 2553 1204 2497 \r\nQ 953 2441 691 2322 \r\nL 691 4666 \r\nz\r\n\" id=\"DejaVuSans-35\" transform=\"scale(0.015625)\"/>\r\n       </defs>\r\n       <use xlink:href=\"#DejaVuSans-32\"/>\r\n       <use x=\"63.623047\" xlink:href=\"#DejaVuSans-32\"/>\r\n       <use x=\"127.246094\" xlink:href=\"#DejaVuSans-2e\"/>\r\n       <use x=\"159.033203\" xlink:href=\"#DejaVuSans-37\"/>\r\n       <use x=\"222.65625\" xlink:href=\"#DejaVuSans-35\"/>\r\n      </g>\r\n     </g>\r\n    </g>\r\n    <g id=\"ytick_2\">\r\n     <g id=\"line2d_9\">\r\n      <g>\r\n       <use style=\"stroke:#000000;stroke-width:0.8;\" x=\"56.50625\" xlink:href=\"#m01cdc99f53\" y=\"191.70977\"/>\r\n      </g>\r\n     </g>\r\n     <g id=\"text_10\">\r\n      <!-- 23.00 -->\r\n      <g transform=\"translate(20.878125 195.508988)scale(0.1 -0.1)\">\r\n       <defs>\r\n        <path d=\"M 2597 2516 \r\nQ 3050 2419 3304 2112 \r\nQ 3559 1806 3559 1356 \r\nQ 3559 666 3084 287 \r\nQ 2609 -91 1734 -91 \r\nQ 1441 -91 1130 -33 \r\nQ 819 25 488 141 \r\nL 488 750 \r\nQ 750 597 1062 519 \r\nQ 1375 441 1716 441 \r\nQ 2309 441 2620 675 \r\nQ 2931 909 2931 1356 \r\nQ 2931 1769 2642 2001 \r\nQ 2353 2234 1838 2234 \r\nL 1294 2234 \r\nL 1294 2753 \r\nL 1863 2753 \r\nQ 2328 2753 2575 2939 \r\nQ 2822 3125 2822 3475 \r\nQ 2822 3834 2567 4026 \r\nQ 2313 4219 1838 4219 \r\nQ 1578 4219 1281 4162 \r\nQ 984 4106 628 3988 \r\nL 628 4550 \r\nQ 988 4650 1302 4700 \r\nQ 1616 4750 1894 4750 \r\nQ 2613 4750 3031 4423 \r\nQ 3450 4097 3450 3541 \r\nQ 3450 3153 3228 2886 \r\nQ 3006 2619 2597 2516 \r\nz\r\n\" id=\"DejaVuSans-33\" transform=\"scale(0.015625)\"/>\r\n       </defs>\r\n       <use xlink:href=\"#DejaVuSans-32\"/>\r\n       <use x=\"63.623047\" xlink:href=\"#DejaVuSans-33\"/>\r\n       <use x=\"127.246094\" xlink:href=\"#DejaVuSans-2e\"/>\r\n       <use x=\"159.033203\" xlink:href=\"#DejaVuSans-30\"/>\r\n       <use x=\"222.65625\" xlink:href=\"#DejaVuSans-30\"/>\r\n      </g>\r\n     </g>\r\n    </g>\r\n    <g id=\"ytick_3\">\r\n     <g id=\"line2d_10\">\r\n      <g>\r\n       <use style=\"stroke:#000000;stroke-width:0.8;\" x=\"56.50625\" xlink:href=\"#m01cdc99f53\" y=\"163.021279\"/>\r\n      </g>\r\n     </g>\r\n     <g id=\"text_11\">\r\n      <!-- 23.25 -->\r\n      <g transform=\"translate(20.878125 166.820498)scale(0.1 -0.1)\">\r\n       <use xlink:href=\"#DejaVuSans-32\"/>\r\n       <use x=\"63.623047\" xlink:href=\"#DejaVuSans-33\"/>\r\n       <use x=\"127.246094\" xlink:href=\"#DejaVuSans-2e\"/>\r\n       <use x=\"159.033203\" xlink:href=\"#DejaVuSans-32\"/>\r\n       <use x=\"222.65625\" xlink:href=\"#DejaVuSans-35\"/>\r\n      </g>\r\n     </g>\r\n    </g>\r\n    <g id=\"ytick_4\">\r\n     <g id=\"line2d_11\">\r\n      <g>\r\n       <use style=\"stroke:#000000;stroke-width:0.8;\" x=\"56.50625\" xlink:href=\"#m01cdc99f53\" y=\"134.332788\"/>\r\n      </g>\r\n     </g>\r\n     <g id=\"text_12\">\r\n      <!-- 23.50 -->\r\n      <g transform=\"translate(20.878125 138.132007)scale(0.1 -0.1)\">\r\n       <use xlink:href=\"#DejaVuSans-32\"/>\r\n       <use x=\"63.623047\" xlink:href=\"#DejaVuSans-33\"/>\r\n       <use x=\"127.246094\" xlink:href=\"#DejaVuSans-2e\"/>\r\n       <use x=\"159.033203\" xlink:href=\"#DejaVuSans-35\"/>\r\n       <use x=\"222.65625\" xlink:href=\"#DejaVuSans-30\"/>\r\n      </g>\r\n     </g>\r\n    </g>\r\n    <g id=\"ytick_5\">\r\n     <g id=\"line2d_12\">\r\n      <g>\r\n       <use style=\"stroke:#000000;stroke-width:0.8;\" x=\"56.50625\" xlink:href=\"#m01cdc99f53\" y=\"105.644298\"/>\r\n      </g>\r\n     </g>\r\n     <g id=\"text_13\">\r\n      <!-- 23.75 -->\r\n      <g transform=\"translate(20.878125 109.443516)scale(0.1 -0.1)\">\r\n       <use xlink:href=\"#DejaVuSans-32\"/>\r\n       <use x=\"63.623047\" xlink:href=\"#DejaVuSans-33\"/>\r\n       <use x=\"127.246094\" xlink:href=\"#DejaVuSans-2e\"/>\r\n       <use x=\"159.033203\" xlink:href=\"#DejaVuSans-37\"/>\r\n       <use x=\"222.65625\" xlink:href=\"#DejaVuSans-35\"/>\r\n      </g>\r\n     </g>\r\n    </g>\r\n    <g id=\"ytick_6\">\r\n     <g id=\"line2d_13\">\r\n      <g>\r\n       <use style=\"stroke:#000000;stroke-width:0.8;\" x=\"56.50625\" xlink:href=\"#m01cdc99f53\" y=\"76.955807\"/>\r\n      </g>\r\n     </g>\r\n     <g id=\"text_14\">\r\n      <!-- 24.00 -->\r\n      <g transform=\"translate(20.878125 80.755026)scale(0.1 -0.1)\">\r\n       <use xlink:href=\"#DejaVuSans-32\"/>\r\n       <use x=\"63.623047\" xlink:href=\"#DejaVuSans-34\"/>\r\n       <use x=\"127.246094\" xlink:href=\"#DejaVuSans-2e\"/>\r\n       <use x=\"159.033203\" xlink:href=\"#DejaVuSans-30\"/>\r\n       <use x=\"222.65625\" xlink:href=\"#DejaVuSans-30\"/>\r\n      </g>\r\n     </g>\r\n    </g>\r\n    <g id=\"ytick_7\">\r\n     <g id=\"line2d_14\">\r\n      <g>\r\n       <use style=\"stroke:#000000;stroke-width:0.8;\" x=\"56.50625\" xlink:href=\"#m01cdc99f53\" y=\"48.267316\"/>\r\n      </g>\r\n     </g>\r\n     <g id=\"text_15\">\r\n      <!-- 24.25 -->\r\n      <g transform=\"translate(20.878125 52.066535)scale(0.1 -0.1)\">\r\n       <use xlink:href=\"#DejaVuSans-32\"/>\r\n       <use x=\"63.623047\" xlink:href=\"#DejaVuSans-34\"/>\r\n       <use x=\"127.246094\" xlink:href=\"#DejaVuSans-2e\"/>\r\n       <use x=\"159.033203\" xlink:href=\"#DejaVuSans-32\"/>\r\n       <use x=\"222.65625\" xlink:href=\"#DejaVuSans-35\"/>\r\n      </g>\r\n     </g>\r\n    </g>\r\n    <g id=\"text_16\">\r\n     <!-- PETR4 Stock Price -->\r\n     <g transform=\"translate(14.798438 176.135781)rotate(-90)scale(0.1 -0.1)\">\r\n      <defs>\r\n       <path d=\"M 1259 4147 \r\nL 1259 2394 \r\nL 2053 2394 \r\nQ 2494 2394 2734 2622 \r\nQ 2975 2850 2975 3272 \r\nQ 2975 3691 2734 3919 \r\nQ 2494 4147 2053 4147 \r\nL 1259 4147 \r\nz\r\nM 628 4666 \r\nL 2053 4666 \r\nQ 2838 4666 3239 4311 \r\nQ 3641 3956 3641 3272 \r\nQ 3641 2581 3239 2228 \r\nQ 2838 1875 2053 1875 \r\nL 1259 1875 \r\nL 1259 0 \r\nL 628 0 \r\nL 628 4666 \r\nz\r\n\" id=\"DejaVuSans-50\" transform=\"scale(0.015625)\"/>\r\n       <path d=\"M 628 4666 \r\nL 3578 4666 \r\nL 3578 4134 \r\nL 1259 4134 \r\nL 1259 2753 \r\nL 3481 2753 \r\nL 3481 2222 \r\nL 1259 2222 \r\nL 1259 531 \r\nL 3634 531 \r\nL 3634 0 \r\nL 628 0 \r\nL 628 4666 \r\nz\r\n\" id=\"DejaVuSans-45\" transform=\"scale(0.015625)\"/>\r\n       <path d=\"M 2841 2188 \r\nQ 3044 2119 3236 1894 \r\nQ 3428 1669 3622 1275 \r\nL 4263 0 \r\nL 3584 0 \r\nL 2988 1197 \r\nQ 2756 1666 2539 1819 \r\nQ 2322 1972 1947 1972 \r\nL 1259 1972 \r\nL 1259 0 \r\nL 628 0 \r\nL 628 4666 \r\nL 2053 4666 \r\nQ 2853 4666 3247 4331 \r\nQ 3641 3997 3641 3322 \r\nQ 3641 2881 3436 2590 \r\nQ 3231 2300 2841 2188 \r\nz\r\nM 1259 4147 \r\nL 1259 2491 \r\nL 2053 2491 \r\nQ 2509 2491 2742 2702 \r\nQ 2975 2913 2975 3322 \r\nQ 2975 3731 2742 3939 \r\nQ 2509 4147 2053 4147 \r\nL 1259 4147 \r\nz\r\n\" id=\"DejaVuSans-52\" transform=\"scale(0.015625)\"/>\r\n       <path id=\"DejaVuSans-20\" transform=\"scale(0.015625)\"/>\r\n       <path d=\"M 3425 4513 \r\nL 3425 3897 \r\nQ 3066 4069 2747 4153 \r\nQ 2428 4238 2131 4238 \r\nQ 1616 4238 1336 4038 \r\nQ 1056 3838 1056 3469 \r\nQ 1056 3159 1242 3001 \r\nQ 1428 2844 1947 2747 \r\nL 2328 2669 \r\nQ 3034 2534 3370 2195 \r\nQ 3706 1856 3706 1288 \r\nQ 3706 609 3251 259 \r\nQ 2797 -91 1919 -91 \r\nQ 1588 -91 1214 -16 \r\nQ 841 59 441 206 \r\nL 441 856 \r\nQ 825 641 1194 531 \r\nQ 1563 422 1919 422 \r\nQ 2459 422 2753 634 \r\nQ 3047 847 3047 1241 \r\nQ 3047 1584 2836 1778 \r\nQ 2625 1972 2144 2069 \r\nL 1759 2144 \r\nQ 1053 2284 737 2584 \r\nQ 422 2884 422 3419 \r\nQ 422 4038 858 4394 \r\nQ 1294 4750 2059 4750 \r\nQ 2388 4750 2728 4690 \r\nQ 3069 4631 3425 4513 \r\nz\r\n\" id=\"DejaVuSans-53\" transform=\"scale(0.015625)\"/>\r\n       <path d=\"M 1172 4494 \r\nL 1172 3500 \r\nL 2356 3500 \r\nL 2356 3053 \r\nL 1172 3053 \r\nL 1172 1153 \r\nQ 1172 725 1289 603 \r\nQ 1406 481 1766 481 \r\nL 2356 481 \r\nL 2356 0 \r\nL 1766 0 \r\nQ 1100 0 847 248 \r\nQ 594 497 594 1153 \r\nL 594 3053 \r\nL 172 3053 \r\nL 172 3500 \r\nL 594 3500 \r\nL 594 4494 \r\nL 1172 4494 \r\nz\r\n\" id=\"DejaVuSans-74\" transform=\"scale(0.015625)\"/>\r\n       <path d=\"M 1959 3097 \r\nQ 1497 3097 1228 2736 \r\nQ 959 2375 959 1747 \r\nQ 959 1119 1226 758 \r\nQ 1494 397 1959 397 \r\nQ 2419 397 2687 759 \r\nQ 2956 1122 2956 1747 \r\nQ 2956 2369 2687 2733 \r\nQ 2419 3097 1959 3097 \r\nz\r\nM 1959 3584 \r\nQ 2709 3584 3137 3096 \r\nQ 3566 2609 3566 1747 \r\nQ 3566 888 3137 398 \r\nQ 2709 -91 1959 -91 \r\nQ 1206 -91 779 398 \r\nQ 353 888 353 1747 \r\nQ 353 2609 779 3096 \r\nQ 1206 3584 1959 3584 \r\nz\r\n\" id=\"DejaVuSans-6f\" transform=\"scale(0.015625)\"/>\r\n       <path d=\"M 3122 3366 \r\nL 3122 2828 \r\nQ 2878 2963 2633 3030 \r\nQ 2388 3097 2138 3097 \r\nQ 1578 3097 1268 2742 \r\nQ 959 2388 959 1747 \r\nQ 959 1106 1268 751 \r\nQ 1578 397 2138 397 \r\nQ 2388 397 2633 464 \r\nQ 2878 531 3122 666 \r\nL 3122 134 \r\nQ 2881 22 2623 -34 \r\nQ 2366 -91 2075 -91 \r\nQ 1284 -91 818 406 \r\nQ 353 903 353 1747 \r\nQ 353 2603 823 3093 \r\nQ 1294 3584 2113 3584 \r\nQ 2378 3584 2631 3529 \r\nQ 2884 3475 3122 3366 \r\nz\r\n\" id=\"DejaVuSans-63\" transform=\"scale(0.015625)\"/>\r\n       <path d=\"M 581 4863 \r\nL 1159 4863 \r\nL 1159 1991 \r\nL 2875 3500 \r\nL 3609 3500 \r\nL 1753 1863 \r\nL 3688 0 \r\nL 2938 0 \r\nL 1159 1709 \r\nL 1159 0 \r\nL 581 0 \r\nL 581 4863 \r\nz\r\n\" id=\"DejaVuSans-6b\" transform=\"scale(0.015625)\"/>\r\n       <path d=\"M 2631 2963 \r\nQ 2534 3019 2420 3045 \r\nQ 2306 3072 2169 3072 \r\nQ 1681 3072 1420 2755 \r\nQ 1159 2438 1159 1844 \r\nL 1159 0 \r\nL 581 0 \r\nL 581 3500 \r\nL 1159 3500 \r\nL 1159 2956 \r\nQ 1341 3275 1631 3429 \r\nQ 1922 3584 2338 3584 \r\nQ 2397 3584 2469 3576 \r\nQ 2541 3569 2628 3553 \r\nL 2631 2963 \r\nz\r\n\" id=\"DejaVuSans-72\" transform=\"scale(0.015625)\"/>\r\n      </defs>\r\n      <use xlink:href=\"#DejaVuSans-50\"/>\r\n      <use x=\"60.302734\" xlink:href=\"#DejaVuSans-45\"/>\r\n      <use x=\"123.486328\" xlink:href=\"#DejaVuSans-54\"/>\r\n      <use x=\"184.570312\" xlink:href=\"#DejaVuSans-52\"/>\r\n      <use x=\"254.052734\" xlink:href=\"#DejaVuSans-34\"/>\r\n      <use x=\"317.675781\" xlink:href=\"#DejaVuSans-20\"/>\r\n      <use x=\"349.462891\" xlink:href=\"#DejaVuSans-53\"/>\r\n      <use x=\"412.939453\" xlink:href=\"#DejaVuSans-74\"/>\r\n      <use x=\"452.148438\" xlink:href=\"#DejaVuSans-6f\"/>\r\n      <use x=\"513.330078\" xlink:href=\"#DejaVuSans-63\"/>\r\n      <use x=\"568.310547\" xlink:href=\"#DejaVuSans-6b\"/>\r\n      <use x=\"626.220703\" xlink:href=\"#DejaVuSans-20\"/>\r\n      <use x=\"658.007812\" xlink:href=\"#DejaVuSans-50\"/>\r\n      <use x=\"716.560547\" xlink:href=\"#DejaVuSans-72\"/>\r\n      <use x=\"757.673828\" xlink:href=\"#DejaVuSans-69\"/>\r\n      <use x=\"785.457031\" xlink:href=\"#DejaVuSans-63\"/>\r\n      <use x=\"840.4375\" xlink:href=\"#DejaVuSans-65\"/>\r\n     </g>\r\n    </g>\r\n   </g>\r\n   <g id=\"line2d_15\">\r\n    <path clip-path=\"url(#p716ec7255b)\" d=\"M 71.724432 114.824615 \r\nL 95.137019 113.677075 \r\nL 118.549607 62.037792 \r\nL 141.962194 88.431203 \r\nL 165.374781 72.365648 \r\nL 188.787369 102.201679 \r\nL 212.199956 119.414773 \r\nL 235.612544 129.74263 \r\nL 259.025131 157.283581 \r\nL 282.437719 90.726282 \r\nL 305.850306 96.463981 \r\nL 329.262893 78.103346 \r\nL 352.675481 50.562395 \r\nL 376.088068 32.201761 \r\n\" style=\"fill:none;stroke:#000000;stroke-linecap:square;stroke-width:1.5;\"/>\r\n   </g>\r\n   <g id=\"line2d_16\">\r\n    <path clip-path=\"url(#p716ec7255b)\" d=\"M 71.724432 195.59788 \r\nL 95.137019 189.345473 \r\nL 118.549607 132.109885 \r\nL 141.962194 174.875812 \r\nL 165.374781 101.813533 \r\nL 188.787369 159.11347 \r\nL 212.199956 120.948751 \r\nL 235.612544 173.245625 \r\nL 259.025131 176.847007 \r\nL 282.437719 229.874489 \r\nL 305.850306 157.101783 \r\nL 329.262893 167.723607 \r\nL 352.675481 136.362643 \r\nL 376.088068 116.966743 \r\n\" style=\"fill:none;stroke:#008000;stroke-linecap:square;stroke-width:1.5;\"/>\r\n   </g>\r\n   <g id=\"patch_3\">\r\n    <path d=\"M 56.50625 239.758125 \r\nL 56.50625 22.318125 \r\n\" style=\"fill:none;stroke:#000000;stroke-linecap:square;stroke-linejoin:miter;stroke-width:0.8;\"/>\r\n   </g>\r\n   <g id=\"patch_4\">\r\n    <path d=\"M 391.30625 239.758125 \r\nL 391.30625 22.318125 \r\n\" style=\"fill:none;stroke:#000000;stroke-linecap:square;stroke-linejoin:miter;stroke-width:0.8;\"/>\r\n   </g>\r\n   <g id=\"patch_5\">\r\n    <path d=\"M 56.50625 239.758125 \r\nL 391.30625 239.758125 \r\n\" style=\"fill:none;stroke:#000000;stroke-linecap:square;stroke-linejoin:miter;stroke-width:0.8;\"/>\r\n   </g>\r\n   <g id=\"patch_6\">\r\n    <path d=\"M 56.50625 22.318125 \r\nL 391.30625 22.318125 \r\n\" style=\"fill:none;stroke:#000000;stroke-linecap:square;stroke-linejoin:miter;stroke-width:0.8;\"/>\r\n   </g>\r\n   <g id=\"text_17\">\r\n    <!-- PETR4 Stock Price Prediction -->\r\n    <g transform=\"translate(138.078125 16.318125)scale(0.12 -0.12)\">\r\n     <defs>\r\n      <path d=\"M 2906 2969 \r\nL 2906 4863 \r\nL 3481 4863 \r\nL 3481 0 \r\nL 2906 0 \r\nL 2906 525 \r\nQ 2725 213 2448 61 \r\nQ 2172 -91 1784 -91 \r\nQ 1150 -91 751 415 \r\nQ 353 922 353 1747 \r\nQ 353 2572 751 3078 \r\nQ 1150 3584 1784 3584 \r\nQ 2172 3584 2448 3432 \r\nQ 2725 3281 2906 2969 \r\nz\r\nM 947 1747 \r\nQ 947 1113 1208 752 \r\nQ 1469 391 1925 391 \r\nQ 2381 391 2643 752 \r\nQ 2906 1113 2906 1747 \r\nQ 2906 2381 2643 2742 \r\nQ 2381 3103 1925 3103 \r\nQ 1469 3103 1208 2742 \r\nQ 947 2381 947 1747 \r\nz\r\n\" id=\"DejaVuSans-64\" transform=\"scale(0.015625)\"/>\r\n      <path d=\"M 3513 2113 \r\nL 3513 0 \r\nL 2938 0 \r\nL 2938 2094 \r\nQ 2938 2591 2744 2837 \r\nQ 2550 3084 2163 3084 \r\nQ 1697 3084 1428 2787 \r\nQ 1159 2491 1159 1978 \r\nL 1159 0 \r\nL 581 0 \r\nL 581 3500 \r\nL 1159 3500 \r\nL 1159 2956 \r\nQ 1366 3272 1645 3428 \r\nQ 1925 3584 2291 3584 \r\nQ 2894 3584 3203 3211 \r\nQ 3513 2838 3513 2113 \r\nz\r\n\" id=\"DejaVuSans-6e\" transform=\"scale(0.015625)\"/>\r\n     </defs>\r\n     <use xlink:href=\"#DejaVuSans-50\"/>\r\n     <use x=\"60.302734\" xlink:href=\"#DejaVuSans-45\"/>\r\n     <use x=\"123.486328\" xlink:href=\"#DejaVuSans-54\"/>\r\n     <use x=\"184.570312\" xlink:href=\"#DejaVuSans-52\"/>\r\n     <use x=\"254.052734\" xlink:href=\"#DejaVuSans-34\"/>\r\n     <use x=\"317.675781\" xlink:href=\"#DejaVuSans-20\"/>\r\n     <use x=\"349.462891\" xlink:href=\"#DejaVuSans-53\"/>\r\n     <use x=\"412.939453\" xlink:href=\"#DejaVuSans-74\"/>\r\n     <use x=\"452.148438\" xlink:href=\"#DejaVuSans-6f\"/>\r\n     <use x=\"513.330078\" xlink:href=\"#DejaVuSans-63\"/>\r\n     <use x=\"568.310547\" xlink:href=\"#DejaVuSans-6b\"/>\r\n     <use x=\"626.220703\" xlink:href=\"#DejaVuSans-20\"/>\r\n     <use x=\"658.007812\" xlink:href=\"#DejaVuSans-50\"/>\r\n     <use x=\"716.560547\" xlink:href=\"#DejaVuSans-72\"/>\r\n     <use x=\"757.673828\" xlink:href=\"#DejaVuSans-69\"/>\r\n     <use x=\"785.457031\" xlink:href=\"#DejaVuSans-63\"/>\r\n     <use x=\"840.4375\" xlink:href=\"#DejaVuSans-65\"/>\r\n     <use x=\"901.960938\" xlink:href=\"#DejaVuSans-20\"/>\r\n     <use x=\"933.748047\" xlink:href=\"#DejaVuSans-50\"/>\r\n     <use x=\"992.300781\" xlink:href=\"#DejaVuSans-72\"/>\r\n     <use x=\"1031.164062\" xlink:href=\"#DejaVuSans-65\"/>\r\n     <use x=\"1092.6875\" xlink:href=\"#DejaVuSans-64\"/>\r\n     <use x=\"1156.164062\" xlink:href=\"#DejaVuSans-69\"/>\r\n     <use x=\"1183.947266\" xlink:href=\"#DejaVuSans-63\"/>\r\n     <use x=\"1238.927734\" xlink:href=\"#DejaVuSans-74\"/>\r\n     <use x=\"1278.136719\" xlink:href=\"#DejaVuSans-69\"/>\r\n     <use x=\"1305.919922\" xlink:href=\"#DejaVuSans-6f\"/>\r\n     <use x=\"1367.101562\" xlink:href=\"#DejaVuSans-6e\"/>\r\n    </g>\r\n   </g>\r\n   <g id=\"legend_1\">\r\n    <g id=\"patch_7\">\r\n     <path d=\"M 63.50625 59.674375 \r\nL 235.820312 59.674375 \r\nQ 237.820312 59.674375 237.820312 57.674375 \r\nL 237.820312 29.318125 \r\nQ 237.820312 27.318125 235.820312 27.318125 \r\nL 63.50625 27.318125 \r\nQ 61.50625 27.318125 61.50625 29.318125 \r\nL 61.50625 57.674375 \r\nQ 61.50625 59.674375 63.50625 59.674375 \r\nz\r\n\" style=\"fill:#ffffff;opacity:0.8;stroke:#cccccc;stroke-linejoin:miter;\"/>\r\n    </g>\r\n    <g id=\"line2d_17\">\r\n     <path d=\"M 65.50625 35.416562 \r\nL 85.50625 35.416562 \r\n\" style=\"fill:none;stroke:#000000;stroke-linecap:square;stroke-width:1.5;\"/>\r\n    </g>\r\n    <g id=\"line2d_18\"/>\r\n    <g id=\"text_18\">\r\n     <!-- PETR4 Stock Price -->\r\n     <g transform=\"translate(93.50625 38.916562)scale(0.1 -0.1)\">\r\n      <use xlink:href=\"#DejaVuSans-50\"/>\r\n      <use x=\"60.302734\" xlink:href=\"#DejaVuSans-45\"/>\r\n      <use x=\"123.486328\" xlink:href=\"#DejaVuSans-54\"/>\r\n      <use x=\"184.570312\" xlink:href=\"#DejaVuSans-52\"/>\r\n      <use x=\"254.052734\" xlink:href=\"#DejaVuSans-34\"/>\r\n      <use x=\"317.675781\" xlink:href=\"#DejaVuSans-20\"/>\r\n      <use x=\"349.462891\" xlink:href=\"#DejaVuSans-53\"/>\r\n      <use x=\"412.939453\" xlink:href=\"#DejaVuSans-74\"/>\r\n      <use x=\"452.148438\" xlink:href=\"#DejaVuSans-6f\"/>\r\n      <use x=\"513.330078\" xlink:href=\"#DejaVuSans-63\"/>\r\n      <use x=\"568.310547\" xlink:href=\"#DejaVuSans-6b\"/>\r\n      <use x=\"626.220703\" xlink:href=\"#DejaVuSans-20\"/>\r\n      <use x=\"658.007812\" xlink:href=\"#DejaVuSans-50\"/>\r\n      <use x=\"716.560547\" xlink:href=\"#DejaVuSans-72\"/>\r\n      <use x=\"757.673828\" xlink:href=\"#DejaVuSans-69\"/>\r\n      <use x=\"785.457031\" xlink:href=\"#DejaVuSans-63\"/>\r\n      <use x=\"840.4375\" xlink:href=\"#DejaVuSans-65\"/>\r\n     </g>\r\n    </g>\r\n    <g id=\"line2d_19\">\r\n     <path d=\"M 65.50625 50.094687 \r\nL 85.50625 50.094687 \r\n\" style=\"fill:none;stroke:#008000;stroke-linecap:square;stroke-width:1.5;\"/>\r\n    </g>\r\n    <g id=\"line2d_20\"/>\r\n    <g id=\"text_19\">\r\n     <!-- Predicted PETR4 Stock Price -->\r\n     <g transform=\"translate(93.50625 53.594687)scale(0.1 -0.1)\">\r\n      <use xlink:href=\"#DejaVuSans-50\"/>\r\n      <use x=\"58.552734\" xlink:href=\"#DejaVuSans-72\"/>\r\n      <use x=\"97.416016\" xlink:href=\"#DejaVuSans-65\"/>\r\n      <use x=\"158.939453\" xlink:href=\"#DejaVuSans-64\"/>\r\n      <use x=\"222.416016\" xlink:href=\"#DejaVuSans-69\"/>\r\n      <use x=\"250.199219\" xlink:href=\"#DejaVuSans-63\"/>\r\n      <use x=\"305.179688\" xlink:href=\"#DejaVuSans-74\"/>\r\n      <use x=\"344.388672\" xlink:href=\"#DejaVuSans-65\"/>\r\n      <use x=\"405.912109\" xlink:href=\"#DejaVuSans-64\"/>\r\n      <use x=\"469.388672\" xlink:href=\"#DejaVuSans-20\"/>\r\n      <use x=\"501.175781\" xlink:href=\"#DejaVuSans-50\"/>\r\n      <use x=\"561.478516\" xlink:href=\"#DejaVuSans-45\"/>\r\n      <use x=\"624.662109\" xlink:href=\"#DejaVuSans-54\"/>\r\n      <use x=\"685.746094\" xlink:href=\"#DejaVuSans-52\"/>\r\n      <use x=\"755.228516\" xlink:href=\"#DejaVuSans-34\"/>\r\n      <use x=\"818.851562\" xlink:href=\"#DejaVuSans-20\"/>\r\n      <use x=\"850.638672\" xlink:href=\"#DejaVuSans-53\"/>\r\n      <use x=\"914.115234\" xlink:href=\"#DejaVuSans-74\"/>\r\n      <use x=\"953.324219\" xlink:href=\"#DejaVuSans-6f\"/>\r\n      <use x=\"1014.505859\" xlink:href=\"#DejaVuSans-63\"/>\r\n      <use x=\"1069.486328\" xlink:href=\"#DejaVuSans-6b\"/>\r\n      <use x=\"1127.396484\" xlink:href=\"#DejaVuSans-20\"/>\r\n      <use x=\"1159.183594\" xlink:href=\"#DejaVuSans-50\"/>\r\n      <use x=\"1217.736328\" xlink:href=\"#DejaVuSans-72\"/>\r\n      <use x=\"1258.849609\" xlink:href=\"#DejaVuSans-69\"/>\r\n      <use x=\"1286.632812\" xlink:href=\"#DejaVuSans-63\"/>\r\n      <use x=\"1341.613281\" xlink:href=\"#DejaVuSans-65\"/>\r\n     </g>\r\n    </g>\r\n   </g>\r\n  </g>\r\n </g>\r\n <defs>\r\n  <clipPath id=\"p716ec7255b\">\r\n   <rect height=\"217.44\" width=\"334.8\" x=\"56.50625\" y=\"22.318125\"/>\r\n  </clipPath>\r\n </defs>\r\n</svg>\r\n",
      "image/png": "[encoded data removed]"
     },
     "metadata": {
      "needs_background": "light"
     }
    }
   ],
   "source": [
    "plt.plot(real_stock_price, color = 'black', label = f'{asset_name} Stock Price')\n",
    "plt.plot(predicted_stock_price, color = 'green', label = f'Predicted {asset_name} Stock Price')\n",
    "plt.title(f'{asset_name} Stock Price Prediction')\n",
    "plt.xlabel('Time')\n",
    "plt.ylabel(f'{asset_name} Stock Price')\n",
    "plt.legend()\n",
    "plt.show()"
   ]
  }
 ],
 "metadata": {
  "kernelspec": {
   "display_name": "Python 3.8.6 64-bit ('env': venv)",
   "language": "python",
   "name": "python386jvsc74a57bd0841a2912c9103af8d6cc388d75eda193c81b8167d1cf2f91ce844095d5bcce97"
  },
  "language_info": {
   "codemirror_mode": {
    "name": "ipython",
    "version": 3
   },
   "file_extension": ".py",
   "mimetype": "text/x-python",
   "name": "python",
   "nbconvert_exporter": "python",
   "pygments_lexer": "ipython3",
   "version": "3.8.6"
  }
 },
 "nbformat": 4,
 "nbformat_minor": 2
}